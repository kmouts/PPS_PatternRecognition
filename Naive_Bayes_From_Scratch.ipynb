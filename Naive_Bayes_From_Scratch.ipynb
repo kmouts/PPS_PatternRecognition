{
  "nbformat": 4,
  "nbformat_minor": 0,
  "metadata": {
    "colab": {
      "name": "Copy of Naive Bayes From Scratch.ipynb",
      "provenance": [],
      "toc_visible": true,
      "authorship_tag": "ABX9TyOW+NS20KTRkqe1t20TL13Z",
      "include_colab_link": true
    },
    "kernelspec": {
      "name": "python3",
      "display_name": "Python 3"
    }
  },
  "cells": [
    {
      "cell_type": "markdown",
      "metadata": {
        "id": "view-in-github",
        "colab_type": "text"
      },
      "source": [
        "<a href=\"https://colab.research.google.com/github/kmouts/PPS_PatternRecognition/blob/main/Naive_Bayes_From_Scratch.ipynb\" target=\"_parent\"><img src=\"https://colab.research.google.com/assets/colab-badge.svg\" alt=\"Open In Colab\"/></a>"
      ]
    },
    {
      "cell_type": "markdown",
      "metadata": {
        "id": "ocARkn3xHRjY"
      },
      "source": [
        "\n",
        "Σε αυτό το εργαστήριο θα δουλέψουμε τον αλγόριθμο **Naive Bayes**, συμπεριλαμβανομένου του τρόπου λειτουργίας του και του τρόπου υλοποίησής του από το μηδέν στη Python (χωρίς βιβλιοθήκες).\n",
        "\n",
        "# Εισαγωγή\n",
        "Σε αυτή την ενότητα βλέπουμε μια σύντομη επισκόπηση του αλγορίθμου Naive Bayes και των δεδομένων \"Iris Flowers\" που θα χρησιμοποιήσουμε.\n"
      ]
    },
    {
      "cell_type": "markdown",
      "source": [
        "\n",
        "## Naive Bayes\n",
        "\n",
        "<center>\n",
        "<img src=\"https://upload.wikimedia.org/wikipedia/commons/1/18/Bayes%27_Theorem_MMB_01.jpg\" alt=\"Bayes\" width=\"50%\"/> \n",
        "</center>\n",
        "\n",
        "Το Θεώρημα του Bayes παρέχει έναν τρόπο για να υπολογίσουμε την πιθανότητα κάποιων δεδομένων να ανήκουν σε μια κλάση, δεδομένης κάποιας προηγούμενης γνώσης μας:\n",
        "\n",
        "> P (class|data) = (P(data|class) * P (class)) / P(data)\n",
        "\n",
        "Όπου P (class|data) είναι η πιθανότητα της κλάσης με βάση τα δεδομένα (εκ των υστέρων πιθανότητα).\n",
        "\n",
        "Ο Naive Bayes είναι ένας αλγόριθμος ταξινόμησης για προβλήματα δύο ή και περισσότερων κλάσεων. Ονομάζεται Naive Bayes επειδή οι υπολογισμοί των πιθανοτήτων για κάθε κλάση απλοποιούνται.\n",
        "\n",
        "Αντί να προσπαθήσουμε να υπολογίσουμε τις πιθανότητες για κάθε παράμετρο, υποθέτουμε ότι είναι υπό συνθήκη ανεξάρτητες, δεδομένης της κλάσης.\n",
        "\n",
        "Αυτή είναι μια πολύ ισχυρή υπόθεση που δεν συμβαίνει σχεδόν ποτέ σε πραγματικά δεδομένα, δηλαδή ότι οι παράμετροι δεν αλληλεπιδρούν. Ωστόσο, η προσέγγιση αποδίδει εκπληκτικά καλά ακόμη και σε δεδομένα όπου η υπόθεση δεν ισχύει."
      ],
      "metadata": {
        "id": "F1KMzVLIiJSm"
      }
    },
    {
      "cell_type": "markdown",
      "metadata": {
        "id": "TGHXrlxAKUFw"
      },
      "source": [
        "## Δεδομένα ειδών λουλουδιών της Iris\n",
        "\n",
        "<center>\n",
        "<img src=\"https://upload.wikimedia.org/wikipedia/commons/thumb/3/3b/Iris_%28plant%29.jpg/300px-Iris_%28plant%29.jpg\" alt=\"IRIS\" width=\"20%\"/> \n",
        "</center>\n",
        "\n",
        "θα χρησιμοποιήσουμε τα δεδομένα με τα χαρακτηριστικά **τριών** ειδών λουλουδιών τύπου Iris.\n",
        "\n",
        "Το σύνολο δεδομένων περιλαμβάνει το είδος της Ίριδας, και κάποια χαρακτηριστικά του λουλουδιού.\n",
        "\n",
        "Πρόκειται για ένα πρόβλημα ταξινόμησης πολλαπλών κλάσεων. Ο αριθμός των παρατηρήσεων για κάθε κλάση είναι ίσος. Υπάρχουν 150 παρατηρήσεις με 4 μεταβλητές εισόδου (χαρακτηριστικά) και 1 μεταβλητή εξόδου. Τα ονόματα των μεταβλητών έχουν ως εξής:\n",
        "\n",
        "*   Sepal length (σε cm).\n",
        "*   Sepal width (σε cm).\n",
        "*   Petal length (σε cm).\n",
        "*   Petal width (σε cm).\n",
        "*   Κλάση\n",
        "\n",
        "Παρακάτω παρατίθεται ένα δείγμα των 5 πρώτων σειρών.\n",
        "\n",
        "```\n",
        "5.1,3.5,1.4,0.2,Iris-setosa\n",
        "4.9,3.0,1.4,0.2,Iris-setosa\n",
        "4.7,3.2,1.3,0.2,Iris-setosa\n",
        "4.6,3.1,1.5,0.2,Iris-setosa\n",
        "5.0,3.6,1.4,0.2,Iris-setosa\n",
        "...\n",
        "```\n",
        "\n",
        "Η βασική ακρίβεια του προβλήματος είναι περίπου 33%.\n",
        "\n",
        "Κατεβάστε το σύνολο δεδομένων και αποθηκεύστε το με όνομα iris.csv .\n",
        "\n",
        "*  [Λήψη συνόλου δεδομένων (iris.csv)](https://raw.githubusercontent.com/jbrownlee/Datasets/master/iris.csv)\n",
        "*   [Περισσότερες πληροφορίες για το σύνολο δεδομένων (iris.names)](https://raw.githubusercontent.com/jbrownlee/Datasets/master/iris.names)"
      ]
    },
    {
      "cell_type": "markdown",
      "metadata": {
        "id": "e1Eo0MMiRU4H"
      },
      "source": [
        "# Naive Bayes Tutorial (σε 5 εύκολα βήματα)\n",
        "Σε αυτήν την ενότητα θα αναπτύξουμε κάθε κομμάτι του αλγορίθμου με χρήση ενός **toy-dataset** και στην επόμενη ενότητα θα συνδέσουμε όλα τα τμήματα με εφαρμογή στο πραγματικό σύνολο δεδομένων (το iris).\n",
        "\n",
        "Θα χωρίσουμε τον αλγόριθμο Naive Bayes σε 5 μέρη:\n",
        "\n",
        "*  Βήμα 1: Διαχωρισμός ανά κλάση.\n",
        "*  Βήμα 2: Σύνοψη δεδομένων.\n",
        "*  Βήμα 3: Σύνοψη δεδομένων ανά κλάση.\n",
        "*  Βήμα 4: Συνάρτηση πυκνότητας πιθανότητας (pdf) Gauss.\n",
        "*  Βήμα 5: Πιθανότητες κλάσης.\n",
        "\n",
        "Αυτά τα βήματα παρέχουν τη βάση που χρειαζόμαστε για να εφαρμόσουμε τον Naive Bayes από την αρχή.\n",
        "\n",
        "<small> **Σημείωση** : Δουλεύουμε εδώ με Python 3. Για Python 2.7, αλλάζουμε όλες τις κλήσεις items() των dictionary objects, σε iteritems(). </small>"
      ]
    },
    {
      "cell_type": "markdown",
      "metadata": {
        "id": "IsRHtU4BTjQO"
      },
      "source": [
        "## Βήμα 1: Διαχωρισμός ανά κλάση\n",
        "Θα πρέπει να υπολογίσουμε την πιθανότητα των δεδομένων σύμφωνα με την κατηγορία στην οποία ανήκουν (base rate).\n",
        "\n",
        "Αυτό σημαίνει ότι θα διαχωρίσουμε τα δεδομένα εκπαίδευσης ανά κλάση. Μια σχετικά απλή λειτουργία.\n",
        "\n",
        "Μπορούμε να δημιουργήσουμε ένα λεξικό (dictionary) όπου κάθε κλειδί (key) είναι η τιμή κλάσης και στη συνέχεια να προσθέσουμε μια λίστα με όλες τις εγγραφές ως τιμή (value).\n",
        "\n",
        "Ακολουθεί η συνάρτηση `separate_by_class()` που εφαρμόζει αυτήν την προσέγγιση. Υποθέτει ότι η τελευταία στήλη σε κάθε σειρά είναι η τιμή της κλάσης.\n",
        "\n",
        "\n"
      ]
    },
    {
      "cell_type": "code",
      "metadata": {
        "id": "k5a72z9dUbz-"
      },
      "source": [
        "# Split the dataset by class values, returns a dictionary\n",
        "def separate_by_class(dataset):\n",
        "\tseparated = dict()\n",
        "\tfor i in range(len(dataset)):\n",
        "\t\tvector = dataset[i]\n",
        "\t\tclass_value = vector[-1]\n",
        "\t\tif (class_value not in separated):\n",
        "\t\t\tseparated[class_value] = list()\n",
        "\t\tseparated[class_value].append(vector)\n",
        "\treturn separated"
      ],
      "execution_count": null,
      "outputs": []
    },
    {
      "cell_type": "markdown",
      "metadata": {
        "id": "_RcIRFzXVFxU"
      },
      "source": [
        "Ας δημιουργήσουμε τώρα ένα μικρό σύνολο δεδομένων (**toy-dataset**) για να δοκιμάσουμε αυτήν τη συνάρτηση:"
      ]
    },
    {
      "cell_type": "code",
      "metadata": {
        "id": "2KXyCRWHVPZF"
      },
      "source": [
        "# Test separating data by class\n",
        "dataset = [[3.393533211,2.331273381,0],\n",
        "\t[3.110073483,1.781539638,0],\n",
        "\t[1.343808831,3.368360954,0],\n",
        "\t[3.582294042,4.67917911,0],\n",
        "\t[2.280362439,2.866990263,0],\n",
        "\t[7.423436942,4.696522875,1],\n",
        "\t[5.745051997,3.533989803,1],\n",
        "\t[9.172168622,2.511101045,1],\n",
        "\t[7.792783481,3.424088941,1],\n",
        "\t[7.939820817,0.791637231,1]]"
      ],
      "execution_count": null,
      "outputs": []
    },
    {
      "cell_type": "markdown",
      "metadata": {
        "id": "AFppWU07X8fS"
      },
      "source": [
        "Μπορούμε να απεικονίσουμε αυτά τα δεδομένα και να χρησιμοποιήσουμε ξεχωριστά χρώματα για κάθε κλάση:\n",
        "![Scatter-Plot-of-Small-Contrived-Dataset-for-Testing-the-Naive-Bayes-Algorithm.png](data:image/png;base64,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)"
      ]
    },
    {
      "cell_type": "markdown",
      "metadata": {
        "id": "ufX4OWFQYYCv"
      },
      "source": [
        "Συγκεντρώνοντας όλα αυτά, μπορούμε να δοκιμάσουμε τη λειτουργία της συνάρτησης `separate_by_class()` στο σύνολο δεδομένων:"
      ]
    },
    {
      "cell_type": "code",
      "metadata": {
        "id": "nNe1gmWIYnZh"
      },
      "source": [
        "separated = separate_by_class(dataset)\n",
        "for label in separated:\n",
        "\tprint(label)\n",
        "\tfor row in separated[label]:\n",
        "\t\tprint(row)"
      ],
      "execution_count": null,
      "outputs": []
    },
    {
      "cell_type": "markdown",
      "metadata": {
        "id": "8-hDRgYVY0_j"
      },
      "source": [
        "Η εκτέλεση του παραδείγματος ταξινομεί το σύνολο δεδομένων βάσει της τιμής κλάσης και μετά εκτυπώνει την τιμή κλάσης ακολουθούμενη από όλες τις σχετικές εγγραφές.\n",
        "\n",
        "Στη συνέχεια ας ξεκινήσουμε να αναπτύσσουμε τις συναρτήσεις για τη συλλογή στατιστικών."
      ]
    },
    {
      "cell_type": "markdown",
      "metadata": {
        "id": "5R_EqtrnZYOK"
      },
      "source": [
        "## Βήμα 2: Σύνοψη δεδομένων\n",
        "Χρειαζόμαστε δύο στατιστικές τιμές από τα δεδομένα: τον **μέσο όρο** και τη **τυπική απόκλιση**.\n",
        "\n",
        "Ο μέσος όρος είναι η μέση τιμή και μπορεί να υπολογιστεί ως:\n",
        "\n",
        "*   ```mean = sum(x)/count(x)```\n",
        "Όπου x είναι η λίστα τιμών ή μια στήλη που αναζητούμε.\n",
        "\n",
        "Ακολουθεί μια μικρή συνάρτηση που ονομάζεται `mean()` που υπολογίζει το μέσο όρο μιας λίστας αριθμών."
      ]
    },
    {
      "cell_type": "code",
      "metadata": {
        "id": "FOo7zrEua4Oa"
      },
      "source": [
        "# Calculate the mean of a list of numbers\n",
        "def mean(numbers):\n",
        "\treturn sum(numbers)/float(len(numbers))"
      ],
      "execution_count": null,
      "outputs": []
    },
    {
      "cell_type": "markdown",
      "metadata": {
        "id": "AuFC3EjWbFPq"
      },
      "source": [
        "Η τυπική απόκλιση δείγματος υπολογίζεται ως η μέση διαφορά από τη μέση τιμή. Αυτό μπορεί να υπολογιστεί ως:\n",
        "\n",
        "\n",
        "*   ```standard deviation = sqrt((sum i to N (x_i – mean(x))^2) / N-1)```\n",
        "\n",
        "Δηλ. τετραγωνίζουμε τη διαφορά μεταξύ του μέσου και μιας δεδομένης τιμής, υπολογίζουμε τη μέση τετραγωνική διαφορά από τη μέση τιμή και, στη συνέχεια, παίρνουμε την τετραγωνική ρίζα για να επιστρέψουμε τις μονάδες στην αρχική τους τιμή.\n",
        "\n",
        "Ακολουθεί μια μικρή συνάρτηση που ονομάζεται `stdev()` που υπολογίζει την τυπική απόκλιση μιας λίστας αριθμών. Θα παρατηρήσετε ότι υπολογίζει το μέσο όρο. Μπορεί να είναι πιο αποτελεσματικό να υπολογίσετε τη μέση τιμή μιας λίστας αριθμών μία φορά και να τη μεταβιβάσετε στη συνάρτηση `standard_deviation()` ως παράμετρο. Μπορείτε αργότερα να εξερευνήσετε αυτήν τη βελτιστοποίηση εάν σας ενδιαφέρει.\n",
        "\n",
        "\n"
      ]
    },
    {
      "cell_type": "code",
      "metadata": {
        "id": "v2GBFP_bb10x"
      },
      "source": [
        "from math import sqrt\n",
        " \n",
        "# Calculate the standard deviation of a list of numbers\n",
        "def stdev(numbers):\n",
        "\tavg = mean(numbers)\n",
        "\tvariance = sum([(x-avg)**2 for x in numbers]) / float(len(numbers)-1)\n",
        "\treturn sqrt(variance)"
      ],
      "execution_count": null,
      "outputs": []
    },
    {
      "cell_type": "markdown",
      "metadata": {
        "id": "0oIy174ycDSt"
      },
      "source": [
        "Θέλουμε να υπολογίζεται η μέση τιμή και η τυπική απόκλιση για κάθε μεταβλητή (δηλ για κάθε στήλη των δεδομένων μας).\n",
        "\n",
        "Θα το κάνουμε συγκεντρώνοντας όλες τις τιμές για κάθε στήλη σε μια λίστα και υπολογίζοντας τη μέση και τυπική απόκλιση στη λίστα αυτή. Έπειτα, συλλέγουμε τα στατιστικά στοιχεία σε μια λίστα ή σε ένα tuple στατιστικών. Στη συνέχεια, επαναλαμβάνουμε αυτήν τη διαδικασία σε κάθε στήλη των δεδομένων και επιστρέφουμε μια λίστα με tuples στατιστικών.\n",
        "\n",
        "Ακολουθεί η συνάρτηση `summarize_dataset()` που εφαρμόζει αυτήν την προσέγγιση. Χρησιμοποιεί μερικά κόλπα της Python (όπως την συνάρτηση [zip()](https://docs.python.org/3.3/library/functions.html#zip)) για να συντομεύσει τον κώδικα."
      ]
    },
    {
      "cell_type": "code",
      "metadata": {
        "id": "hCiSllg0coRH"
      },
      "source": [
        "# Calculate the mean, stdev and count for each column in a dataset\n",
        "def summarize_dataset(dataset):\n",
        "\tsummaries = [(mean(column), stdev(column), len(column)) for column in zip(*dataset)]\n",
        "\tdel(summaries[-1])\n",
        "\treturn summaries"
      ],
      "execution_count": null,
      "outputs": []
    },
    {
      "cell_type": "markdown",
      "metadata": {
        "id": "nvdY0N-bdFc5"
      },
      "source": [
        "Το πρώτο κόλπο είναι η χρήση της συνάρτησης `zip()` που θα συγκεντρώνει στοιχεία από κάθε παρεχόμενο όρισμα. Περνάμε το σύνολο δεδομένων στη συνάρτηση `zip()` με τον τελεστή `*` που διαχωρίζει το σύνολο δεδομένων (δηλαδή μια λίστα λιστών) σε ξεχωριστές λίστες για κάθε σειρά. H συνάρτηση `zip()` επαναλαμβάνει κάθε στοιχείο κάθε σειράς και επιστρέφει μια στήλη από το σύνολο δεδομένων ως λίστα αριθμών.\n",
        "\n",
        "Στη συνέχεια υπολογίζουμε τη μέση, τυπική απόκλιση και τον αριθμό των σειρών σε κάθε στήλη. Δημιουργείται μια πλειάδα (tuple) από αυτούς τους 3 αριθμούς και αποθηκεύεται μια λίστα με αυτές τις πλειάδες. Στη συνέχεια καταργούμε τα στατιστικά στοιχεία για τη μεταβλητή κλάσης, καθώς δεν χρειαζόμαστε αυτό το στατιστικό.\n",
        "\n",
        "Ας δοκιμάσουμε όλες αυτές τις λειτουργίες στο toy-dataset:"
      ]
    },
    {
      "cell_type": "code",
      "metadata": {
        "id": "ZpWjzQ_Td-7m"
      },
      "source": [
        "summary = summarize_dataset(dataset)\n",
        "print(summary)"
      ],
      "execution_count": null,
      "outputs": []
    },
    {
      "cell_type": "markdown",
      "metadata": {
        "id": "7ICIX0YUfGuC"
      },
      "source": [
        "Η εκτέλεση του παραδείγματος εκτυπώνει τη λίστα των πλειάδων στατιστικών στοιχείων σε καθεμία από τις δύο μεταβλητές εισόδου.\n",
        "\n",
        "Μπορούμε να δούμε ότι η μέση τιμή του X1 είναι 5.178333386499999 και η τυπική απόκλιση του X1 είναι 2,7665845055177263.\n",
        "\n",
        "Eίμαστε έτοιμοι να χρησιμοποιήσουμε αυτές τις συναρτήσεις σε κάθε ομάδα σειρών στα δεδομένα μας."
      ]
    },
    {
      "cell_type": "markdown",
      "metadata": {
        "id": "F8E1M4WKffP8"
      },
      "source": [
        "## Βήμα 3: Σύνοψη δεδομένων ανά κλάση\n",
        "Τώρα χρειαζόμαστε και τα στατιστικά στοιχεία από τα δεδομένα εκπαίδευσης *ανά κλάση*.\n",
        "\n",
        "Έχουμε ήδη αναπτύξει τη συνάρτηση `separate_by_class()` για να διαχωρίσουμε τα δεδομένα σε σειρές ανά κλάση. Και έχουμε αναπτύξει τη συνάρτηση `summarize_dataset()` για τον υπολογισμό των συνοπτικών στατιστικών για κάθε στήλη.\n",
        "\n",
        "Μπορούμε να τα συνδυάσουμε για να συνοψίσουμε τις στήλες στο σύνολο δεδομένων ανά κλάση.\n",
        "\n",
        "Ακολουθεί η συνάρτηση `summarize_by_class()`. Τα δεδομένα διαιρούνται πρώτα ανά κλάση και, στη συνέχεια, τα στατιστικά στοιχεία υπολογίζονται σε κάθε υποσύνολο. Τα αποτελέσματα με τη μορφή μιας λίστας πλειάδων στατιστικών αποθηκεύονται σε ένα λεξικό (dictionary) με κλειδί την τιμή της κάθε κλάσης."
      ]
    },
    {
      "cell_type": "code",
      "metadata": {
        "id": "3VuzkEjpgSYI"
      },
      "source": [
        "# Split dataset by class then calculate statistics for each row\n",
        "def summarize_by_class(dataset):\n",
        "\tseparated = separate_by_class(dataset)\n",
        "\tsummaries = dict()\n",
        "\tfor class_value, rows in separated.items():\n",
        "\t\tsummaries[class_value] = summarize_dataset(rows)\n",
        "\treturn summaries"
      ],
      "execution_count": null,
      "outputs": []
    },
    {
      "cell_type": "markdown",
      "metadata": {
        "id": "-P3dA-j9gbht"
      },
      "source": [
        "Και πάλι, ας δοκιμάσουμε αυτές τις συναρτήσεις στο δοκιμαστικό σύνολο δεδομένων:"
      ]
    },
    {
      "cell_type": "code",
      "metadata": {
        "id": "xf-NZ6lCiMIp"
      },
      "source": [
        "summary = summarize_by_class(dataset)\n",
        "for label in summary:\n",
        "\tprint(label)\n",
        "\tfor row in summary[label]:\n",
        "\t\tprint(row)"
      ],
      "execution_count": null,
      "outputs": []
    },
    {
      "cell_type": "markdown",
      "metadata": {
        "id": "DpEYdQoIia-i"
      },
      "source": [
        "Η εκτέλεση αυτού του παραδείγματος υπολογίζει τα στατιστικά στοιχεία για κάθε μεταβλητή εισόδου (δηλ. στήλη) και τα εκτυπώνει οργανωμένα ανά τιμή κλάσης. Στα αποτελέσματα, βλέπουμε πχ. ότι οι τιμές της μεταβλητής X1 για την κλάση 0 έχουν μέση τιμή: 2.7420144012.\n",
        "\n",
        "Μένει ακόμη ένα βήμα πριν αρχίσουμε να υπολογίζουμε τις πιθανότητες."
      ]
    },
    {
      "cell_type": "markdown",
      "metadata": {
        "id": "1g2He8Ati01r"
      },
      "source": [
        "## Βήμα 4: Συνάρτηση πυκνότητας πιθανότητας (pdf) Gauss\n",
        "Ο υπολογισμός της πιθανότητας ή πιθανοφάνειας (**likelihood**) μιας πραγματικής τιμής (πχ της μεταβλητής X1) είναι δύσκολος.\n",
        "\n",
        "Ένας τρόπος που μπορούμε να το κάνουμε είναι να υποθέσουμε ότι οι τιμές της X1 **προέρχονται από μια (γνωστή) κατανομή**, όπως πχ. η κανονική/Gaussian κατανομή:\n",
        "<center>\n",
        "<img src=\"https://wikimedia.org/api/rest_v1/media/math/render/svg/00cb9b2c9b866378626bcfa45c86a6de2f2b2e40\" alt=\"Normal distribution\" width=\"50%\"/> \n",
        "</center>\n",
        "\n",
        "<center>\n",
        "<img src=\"https://upload.wikimedia.org/wikipedia/commons/thumb/3/3a/Standard_deviation_diagram_micro.svg/1280px-Standard_deviation_diagram_micro.svg.png\" alt=\"Normal curve\" width=\"80%\"/> \n",
        "</center>\n",
        "\n",
        "\n",
        "\n",
        "Μια κατανομή Gauss μπορεί να περιγραφεί χρησιμοποιώντας μόνο δύο αριθμούς: τη μέση τιμή και την τυπική απόκλιση. Επομένως, με λίγα μαθηματικά, μπορούμε να εκτιμήσουμε την πιθανότητα μιας δεδομένης τιμής. Ονομάζεται συνάρτηση κατανομής πιθανότητας Gauss (ή Gaussian PDF) και μπορεί να υπολογιστεί ως:\n",
        "\n",
        "*  f(x)=(1 / sqrt(2*PI) * sigma) * exp(-((x-mean)^2/(2*sigma^2)))\n",
        "\n",
        "Όπου το sigma  είναι η τυπική απόκλιση για το x, mean είναι ο μέσος όρος για το x και το PI είναι η τιμή του `π`.\n",
        "\n",
        "Παρακάτω έχουμε μια συνάρτηση που την υλοποιεί:"
      ]
    },
    {
      "cell_type": "code",
      "metadata": {
        "id": "gC4qwBL5kmmJ"
      },
      "source": [
        "# Calculate the Gaussian probability distribution function for x\n",
        "def calculate_probability(x, mean, stdev):\n",
        "\texponent = exp(-((x-mean)**2 / (2 * stdev**2 )))\n",
        "\treturn (1 / (sqrt(2 * pi) * stdev)) * exponent"
      ],
      "execution_count": null,
      "outputs": []
    },
    {
      "cell_type": "markdown",
      "metadata": {
        "id": "L4cyM2e0k3Ym"
      },
      "source": [
        "Ας τη δοκιμάσουμε για να δούμε πώς λειτουργεί. Παρακάτω βλέπουμε μερικά παραδείγματα:"
      ]
    },
    {
      "cell_type": "code",
      "metadata": {
        "id": "N2PosYT4k-Vq"
      },
      "source": [
        "# Example of Gaussian PDF\n",
        "from math import sqrt\n",
        "from math import pi\n",
        "from math import exp\n",
        " \n",
        "# Calculate the Gaussian probability distribution function for x\n",
        "def calculate_probability(x, mean, stdev):\n",
        "\texponent = exp(-((x-mean)**2 / (2 * stdev**2 )))\n",
        "\treturn (1 / (sqrt(2 * pi) * stdev)) * exponent\n",
        " \n",
        "# Test Gaussian PDF\n",
        "print(calculate_probability(1.0, 1.0, 1.0))\n",
        "print(calculate_probability(2.0, 1.0, 1.0))\n",
        "print(calculate_probability(0.0, 1.0, 1.0))"
      ],
      "execution_count": null,
      "outputs": []
    },
    {
      "cell_type": "markdown",
      "metadata": {
        "id": "68FRi4KPlIBD"
      },
      "source": [
        "Η παραπάνω εκτέλεση εκτυπώνει την πιθανότητα ορισμένων τιμών εισόδου. Μπορείτε να δείτε ότι όταν η τιμή είναι 1 και η μέση και τυπική απόκλιση είναι 1, η είσοδος μας είναι η πιο πιθανή (κορυφή στην καμπάνα) και έχει την πιθανότητα 0,39.\n",
        "\n",
        "Επίσης βλέπουμε ότι όταν διατηρούμε ίδια στατιστικά και αλλάζουμε την τιμή του x κατά μία τυπική απόκλιση και από τις δύο πλευρές της μέσης τιμής (2 και 0 ή στην ίδια απόσταση και στις δύο πλευρές της καμπάνας) οι πιθανότητες αυτών των τιμών εισαγωγής είναι ίδιες στα 0.24.\n",
        "\n",
        "Μπορούμε να υπολογίσουμε στο παράδειγμα αυτό, ποιά είναι η πιθανότητα να έχουμε μια τιμή που είναι 3 τυπικές αποκλίσεις μακρύτερα από τον μέσο όρο;\n",
        "\n"
      ]
    },
    {
      "cell_type": "code",
      "source": [
        "# Βάλτε τον κώδικά σας εδώ\n",
        "\n"
      ],
      "metadata": {
        "id": "NutN0H-OfRjv"
      },
      "execution_count": null,
      "outputs": []
    },
    {
      "cell_type": "markdown",
      "source": [
        "Τώρα που έχουμε όλα τα κομμάτια στη θέση τους, ας δούμε πώς μπορούμε να υπολογίσουμε τις πιθανότητες που χρειαζόμαστε για τον ταξινομητή Naive Bayes."
      ],
      "metadata": {
        "id": "j9h7cE7DfhBW"
      }
    },
    {
      "cell_type": "markdown",
      "metadata": {
        "id": "B612HemCmKzA"
      },
      "source": [
        "## Βήμα 5: Πιθανότητες κλάσης\n",
        "Τώρα μπορούμε να χρησιμοποιήσουμε τα στατιστικά στοιχεία που υπολογίστηκαν από τα δεδομένα εκπαίδευσης για να υπολογίσουμε τις πιθανότητες για νέα δεδομένα.\n",
        "\n",
        "Οι πιθανότητες υπολογίζονται ξεχωριστά για κάθε κλάση. Αυτό σημαίνει ότι υπολογίζουμε πρώτα την πιθανότητα για ένα νέο στοιχείο δεδομένων να ανήκει στην πρώτη κλάση, μετά τη πιθανότητα να ανήκει στη δεύτερη κλάση και ούτω καθεξής για όλες τις κλάσεις.\n",
        "\n",
        "Η πιθανότητα ότι ένα στοιχείο δεδομένων ανήκει σε μια κλάση υπολογίζεται ως εξής:\n",
        "\n",
        "*   `P(class|data) = P(X|class) * P(class)`\n",
        "\n",
        "Μπορεί να παρατηρήσετε ότι αυτό είναι κάπως διαφορετικό από το θεώρημα Bayes που περιγράψαμε παραπάνω.\n",
        "\n",
        "Η διαίρεση έχει αφαιρεθεί για να απλοποιηθεί ο υπολογισμός.\n",
        "\n",
        "Αυτό σημαίνει ότι το αποτέλεσμα δεν είναι πλέον αυστηρά η πιθανότητα των δεδομένων που ανήκουν σε μια κλάση. Η τιμή εξακολουθεί να μεγιστοποιείται, πράγμα που σημαίνει ότι ο υπολογισμός για την κλάση που οδηγεί στη μεγαλύτερη τιμή λαμβάνεται ως πρόβλεψη. Αυτή είναι μια συνηθισμένη απλοποίηση στην υλοποίηση, καθώς συχνά ενδιαφερόμαστε περισσότερο για την πρόβλεψη κλάσης παρά για την πιθανότητα.\n",
        "\n",
        "Οι μεταβλητές αντιμετωπίζονται ξεχωριστά, δίνοντας στην μέθοδο το όνομά της \"naive - αφελής\". Για το παραπάνω παράδειγμα όπου έχουμε 2 μεταβλητές , ο υπολογισμός της πιθανότητας ότι μια σειρά ανήκει στην πρώτη κλάση 0 μπορεί να υπολογιστεί ως:\n",
        "\n",
        "*  `P(class=0|X1,X2) = P(X1|class=0) * P(X2|class=0) * P(class=0)`\n",
        "\n",
        "Τώρα βλέπουμε γιατί πρέπει να διαχωρίσουμε τα δεδομένα ανά κλάση. Η συνάρτηση Gaussian Probability Density στο προηγούμενο βήμα υπολογίζει την πιθανότητα μιας πραγματικής τιμής (πχ για το X1), χρησιμοποιώντας τα στατιστικά που ετοιμάσαμε προηγουμένως.\n",
        "\n",
        "Ακολουθεί η συνάρτηση `calculate_class_probabilities()` που τα συνδέει όλα αυτά μαζί.\n",
        "\n",
        "Ως όρισμα στην συνάρτηση θα δίνουμε τα έτοιμα στατιστικά και μια νέα γραμμή με δεδομένα, για να υπολογιστεί το αποτέλεσμα για κάθε δυνατή κλάση.\n",
        "\n",
        "Πρώτα, υπολογίζεται ο συνολικός αριθμός των εγγραφών εκπαίδευσης από τις μετρήσεις που βρίσκονται στα συνοπτικά στατιστικά στοιχεία. Αυτό χρησιμοποιείται για τον υπολογισμό της πιθανότητας μιας δεδομένης κλάσης (prior) ή `P(class)` ως ο λόγος των σειρών με μια δεδομένη κλάση προς το πλήθος όλων των σειρών στα δεδομένα εκπαίδευσης.\n",
        "\n",
        "Στη συνέχεια, υπολογίζονται οι πιθανότητες για κάθε τιμή εισόδου στη σειρά χρησιμοποιώντας τη συνάρτηση πυκνότητας πιθανότητας Gauss και τα στατιστικά στοιχεία για αυτήν τη στήλη και αυτής της κλάσης. Οι πιθανότητες πολλαπλασιάζονται μαζί καθώς συσσωρεύονται.\n",
        "\n",
        "Αυτή η διαδικασία επαναλαμβάνεται για κάθε κλάση στο σύνολο δεδομένων.\n",
        "\n",
        "Τέλος επιστρέφεται ένα λεξικό \"πιθανότητας\" με μία καταχώρηση για κάθε κλάση."
      ]
    },
    {
      "cell_type": "code",
      "metadata": {
        "id": "YD-b7lTJptf7"
      },
      "source": [
        "def calculate_class_probabilities(summaries, row):\n",
        "\ttotal_rows = sum([summaries[label][0][2] for label in summaries])\n",
        "\tprobabilities = dict()\n",
        "\tfor class_value, class_summaries in summaries.items():\n",
        "\t\tprobabilities[class_value] = summaries[class_value][0][2]/float(total_rows)\n",
        "\t\tfor i in range(len(class_summaries)):\n",
        "\t\t\tmean, stdev, count = class_summaries[i]\n",
        "\t\t\tprobabilities[class_value] *= calculate_probability(row[i], mean, stdev)\n",
        "\treturn probabilities"
      ],
      "execution_count": null,
      "outputs": []
    },
    {
      "cell_type": "markdown",
      "metadata": {
        "id": "7M9liVNqqEhs"
      },
      "source": [
        "Ας το συνδέσουμε μαζί με ένα παράδειγμα στο toy-dataset.\n",
        "\n",
        "Το παρακάτω παράδειγμα  χρησιμοποιεί τα στατιστικά στοιχεία που έχουμε ήδη βρει, για να υπολογίσει την πιθανότητα της πρώτης εγγραφής που ανήκει σε κάθε κλάση."
      ]
    },
    {
      "cell_type": "code",
      "metadata": {
        "id": "EULRaQLFqTEI"
      },
      "source": [
        "summaries = summarize_by_class(dataset)\n",
        "probabilities = calculate_class_probabilities(summaries, dataset[0])\n",
        "print(probabilities)"
      ],
      "execution_count": null,
      "outputs": []
    },
    {
      "cell_type": "markdown",
      "metadata": {
        "id": "HqFups3hqdQY"
      },
      "source": [
        "Η εκτέλεση του παραδείγματος εκτυπώνει τις πιθανότητες που υπολογίζονται για κάθε κλάση.\n",
        "\n",
        "Μπορούμε να δούμε ότι η πιθανότητα της πρώτης σειράς να ανήκει στην κλάση 0 (0,0503) είναι μεγαλύτερη από την πιθανότητα να ανήκει στην κατηγορία 1 (0,0001). Επομένως, καταλήγουμε σωστά στο συμπέρασμα ότι ανήκει στην κλάση 0.\n"
      ]
    },
    {
      "cell_type": "markdown",
      "source": [
        "Δοκιμάστε την συνάρτηση `calculate_class_probabilities` με μια δική σας γραμμή δεδομένων (που δεν υπάρχει δηλ, στα δεδομένα εκπαίδευσης του toy_dataset). Είναι αναμενόμενο το αποτέλεσμα σε σχέση και με την απεικόνιση των δεδομένων στο toy_dataset;"
      ],
      "metadata": {
        "id": "pd071ioNlyA1"
      }
    },
    {
      "cell_type": "code",
      "source": [
        "# Βάλτε τον κώδικά σας εδώ\n",
        "\n"
      ],
      "metadata": {
        "id": "BE78iR6mmj4i"
      },
      "execution_count": null,
      "outputs": []
    },
    {
      "cell_type": "markdown",
      "source": [
        "\n",
        "Τώρα που έχουμε δει πώς δουλεύει ο αλγόριθμος Naive Bayes, ας τον εφαρμόσουμε στο σύνολο δεδομένων λουλουδιών Iris."
      ],
      "metadata": {
        "id": "VrE2NqxtnGRf"
      }
    },
    {
      "cell_type": "markdown",
      "metadata": {
        "id": "DewCqgfQq2wg"
      },
      "source": [
        "# Μελέτη περίπτωσης ειδών λουλουδιών Iris\n",
        "Σε αυτή την ενότητα εφαρμόζουμε τον αλγόριθμο Naive Bayes στο σύνολο δεδομένων Iris.\n",
        "\n",
        "Το πρώτο βήμα είναι να διαβάσουμε τα δεδομένα και να τα μετατρέψουμε σε αριθμούς ώστε να χρησιμοποιηθούν στους υπολογισμούς μέσης τιμής και τυπικής απόκλισης. Για αυτό θα χρησιμοποιήσουμε τη βοηθητική συνάρτηση pandas: \n",
        "`read_csv` για να φορτώσουμε το αρχείο, και `make_dataset` για να το μετατρέψουμε σε λίστες δεδομένων. Ακόμη, χρησιμοποιούμε την  `str_column_to_int()` για να μετατρέψουμε τη στήλη κλάσης σε ακέραιες τιμές.\n",
        "\n",
        "Θα αξιολογήσουμε τον αλγόριθμο χρησιμοποιώντας **k-fold cross-validation** με 5 πτυχές. Αυτό σημαίνει ότι 150/5 = 30 εγγραφές θα είναι σε κάθε πτυχή. Θα χρησιμοποιήσουμε τις βοηθητικές συναρτήσεις `evaluate_algorithm()` για να αξιολογήσουμε τον αλγόριθμο και `accuracy_metric()` για να υπολογίσουμε την ακρίβεια των προβλέψεων.\n",
        "\n",
        "<center>\n",
        "<img src=\"https://upload.wikimedia.org/wikipedia/commons/thumb/b/b5/K-fold_cross_validation_EN.svg/512px-K-fold_cross_validation_EN.svg.png\" alt=\"Cross Validation\" width=\"60%\"/> \n",
        "</center>\n",
        "\n",
        "Έχουμε και μια νέα συνάρτηση με την ονομασία `predict()` για τη διαχείριση υπολογισμού των πιθανοτήτων μιας νέας γραμμής και την επιλογή της κλάσης με τη μεγαλύτερη τιμή πιθανότητας.\n",
        "\n",
        "Μια άλλη  συνάρτηση: `naive_bayes()` αναπτύχθηκε για τη διαχείριση της εφαρμογής του αλγορίθμου Naive Bayes, μαθαίνοντας πρώτα τα στατιστικά από ένα σύνολο δεδομένων εκπαίδευσης και χρησιμοποιώντας τα για να κάνουν προβλέψεις."
      ]
    },
    {
      "cell_type": "code",
      "metadata": {
        "id": "FW6X5CtRxyfl"
      },
      "source": [
        "import pandas as pd\n",
        "url_to_the_file  = \"http://archive.ics.uci.edu/ml/machine-learning-databases/iris/iris.data\"\n",
        "iris_dataset = pd.read_csv(url_to_the_file, header = None)"
      ],
      "execution_count": null,
      "outputs": []
    },
    {
      "cell_type": "code",
      "metadata": {
        "id": "IxxhXNJP1moW"
      },
      "source": [
        "iris_dataset.head()"
      ],
      "execution_count": null,
      "outputs": []
    },
    {
      "cell_type": "code",
      "metadata": {
        "id": "_mgf3kVEz6YJ"
      },
      "source": [
        "\n",
        "def make_dataset(iris_data):\n",
        "  dataset = list()\n",
        "  for rows in iris_data.itertuples(): \n",
        "    # Create list for the current row \n",
        "    my_list =[rows[1], rows[2], rows[3],rows[4],rows[5]] \n",
        "    dataset.append(my_list)\n",
        "  return dataset"
      ],
      "execution_count": null,
      "outputs": []
    },
    {
      "cell_type": "code",
      "metadata": {
        "id": "_-4iqY-pySFZ"
      },
      "source": [
        "# Naive Bayes On The Iris Dataset\n",
        "from csv import reader\n",
        "from random import seed\n",
        "from random import randrange\n",
        "from math import sqrt\n",
        "from math import exp\n",
        "from math import pi\n",
        " \n",
        "\n",
        "# Convert string column to integer\n",
        "def str_column_to_int(dataset, column):\n",
        "\tclass_values = [row[column] for row in dataset]\n",
        "\tunique = set(class_values)\n",
        "\tlookup = dict()\n",
        "\tfor i, value in enumerate(unique):\n",
        "\t\tlookup[value] = i\n",
        "\t\tprint('[%s] => %d' % (value, i))\n",
        "\tfor row in dataset:\n",
        "\t\trow[column] = lookup[row[column]]\n",
        "\treturn lookup\n",
        " \n",
        "# Split a dataset into k folds\n",
        "def cross_validation_split(dataset, n_folds):\n",
        "\tdataset_split = list()\n",
        "\tdataset_copy = list(dataset)\n",
        "\tfold_size = int(len(dataset) / n_folds)\n",
        "\tfor _ in range(n_folds):\n",
        "\t\tfold = list()\n",
        "\t\twhile len(fold) < fold_size:\n",
        "\t\t\tindex = randrange(len(dataset_copy))\n",
        "\t\t\tfold.append(dataset_copy.pop(index))\n",
        "\t\tdataset_split.append(fold)\n",
        "\treturn dataset_split\n",
        " \n",
        "# Calculate accuracy percentage\n",
        "def accuracy_metric(actual, predicted):\n",
        "\tcorrect = 0\n",
        "\tfor i in range(len(actual)):\n",
        "\t\tif actual[i] == predicted[i]:\n",
        "\t\t\tcorrect += 1\n",
        "\treturn correct / float(len(actual)) * 100.0\n",
        " \n",
        "# Evaluate an algorithm using a cross validation split\n",
        "def evaluate_algorithm(dataset, algorithm, n_folds, *args):\n",
        "\tfolds = cross_validation_split(dataset, n_folds)\n",
        "\tscores = list()\n",
        "\tfor fold in folds:\n",
        "\t\ttrain_set = list(folds)\n",
        "\t\ttrain_set.remove(fold)\n",
        "\t\ttrain_set = sum(train_set, [])\n",
        "\t\ttest_set = list()\n",
        "\t\tfor row in fold:\n",
        "\t\t\trow_copy = list(row)\n",
        "\t\t\ttest_set.append(row_copy)\n",
        "\t\t\trow_copy[-1] = None\n",
        "\t\tpredicted = algorithm(train_set, test_set, *args)\n",
        "\t\tactual = [row[-1] for row in fold]\n",
        "\t\taccuracy = accuracy_metric(actual, predicted)\n",
        "\t\tscores.append(accuracy)\n",
        "\treturn scores\n",
        " \n",
        "# Split the dataset by class values, returns a dictionary\n",
        "def separate_by_class(dataset):\n",
        "\tseparated = dict()\n",
        "\tfor i in range(len(dataset)):\n",
        "\t\tvector = dataset[i]\n",
        "\t\tclass_value = vector[-1]\n",
        "\t\tif (class_value not in separated):\n",
        "\t\t\tseparated[class_value] = list()\n",
        "\t\tseparated[class_value].append(vector)\n",
        "\treturn separated\n",
        " \n",
        "# Calculate the mean of a list of numbers\n",
        "def mean(numbers):\n",
        "\treturn sum(numbers)/float(len(numbers))\n",
        " \n",
        "# Calculate the standard deviation of a list of numbers\n",
        "def stdev(numbers):\n",
        "\tavg = mean(numbers)\n",
        "\tvariance = sum([(x-avg)**2 for x in numbers]) / float(len(numbers)-1)\n",
        "\treturn sqrt(variance)\n",
        " \n",
        "# Calculate the mean, stdev and count for each column in a dataset\n",
        "def summarize_dataset(dataset):\n",
        "\tsummaries = [(mean(column), stdev(column), len(column)) for column in zip(*dataset)]\n",
        "\tdel(summaries[-1])\n",
        "\treturn summaries\n",
        " \n",
        "# Split dataset by class then calculate statistics for each row\n",
        "def summarize_by_class(dataset):\n",
        "\tseparated = separate_by_class(dataset)\n",
        "\tsummaries = dict()\n",
        "\tfor class_value, rows in separated.items():\n",
        "\t\tsummaries[class_value] = summarize_dataset(rows)\n",
        "\treturn summaries\n",
        " \n",
        "# Calculate the Gaussian probability distribution function for x\n",
        "def calculate_probability(x, mean, stdev):\n",
        "\texponent = exp(-((x-mean)**2 / (2 * stdev**2 )))\n",
        "\treturn (1 / (sqrt(2 * pi) * stdev)) * exponent\n",
        " \n",
        "# Calculate the probabilities of predicting each class for a given row\n",
        "def calculate_class_probabilities(summaries, row):\n",
        "\ttotal_rows = sum([summaries[label][0][2] for label in summaries])\n",
        "\tprobabilities = dict()\n",
        "\tfor class_value, class_summaries in summaries.items():\n",
        "\t\tprobabilities[class_value] = summaries[class_value][0][2]/float(total_rows)\n",
        "\t\tfor i in range(len(class_summaries)):\n",
        "\t\t\tmean, stdev, _ = class_summaries[i]\n",
        "\t\t\tprobabilities[class_value] *= calculate_probability(row[i], mean, stdev)\n",
        "\treturn probabilities\n",
        " \n",
        "# Predict the class for a given row\n",
        "def predict(summaries, row):\n",
        "\tprobabilities = calculate_class_probabilities(summaries, row)\n",
        "\tbest_label, best_prob = None, -1\n",
        "\tfor class_value, probability in probabilities.items():\n",
        "\t\tif best_label is None or probability > best_prob:\n",
        "\t\t\tbest_prob = probability\n",
        "\t\t\tbest_label = class_value\n",
        "\treturn best_label\n",
        " \n",
        "# Naive Bayes Algorithm\n",
        "def naive_bayes(train, test):\n",
        "\tsummarize = summarize_by_class(train)\n",
        "\tpredictions = list()\n",
        "\tfor row in test:\n",
        "\t\toutput = predict(summarize, row)\n",
        "\t\tpredictions.append(output)\n",
        "\treturn(predictions)\n",
        " "
      ],
      "execution_count": null,
      "outputs": []
    },
    {
      "cell_type": "code",
      "metadata": {
        "id": "qdByjAIMy0Hz"
      },
      "source": [
        "# Test Naive Bayes on Iris Dataset\n",
        "seed(1)\n",
        "dataset = make_dataset(iris_dataset)\n",
        "# convert class column to integers\n",
        "str_column_to_int(dataset, len(dataset[0])-1)\n",
        "# evaluate algorithm\n",
        "n_folds = 5\n",
        "scores = evaluate_algorithm(dataset, naive_bayes, n_folds)\n",
        "print('Scores: %s' % scores)\n",
        "print('Mean Accuracy: %.3f%%' % (sum(scores)/float(len(scores))))"
      ],
      "execution_count": null,
      "outputs": []
    },
    {
      "cell_type": "markdown",
      "metadata": {
        "id": "DZchRYIs7B--"
      },
      "source": [
        "Η εκτέλεση του παραδείγματος εκτυπώνει τη μέση βαθμολογία ακρίβειας ταξινόμησης για κάθε πτυχή των δεδομένων καθώς και τη μέση ακρίβεια.\n",
        "\n",
        "Μπορούμε να δούμε ότι η μέση ακρίβεια περίπου 95% είναι δραματικά καλύτερη από την αρχική ακρίβεια 33%.\n",
        "\n",
        "Μπορούμε επίσης να εκπαιδεύσουμε ένα μοντέλο σε ολόκληρο το σύνολο δεδομένων και στη συνέχεια να χρησιμοποιήσουμε το μοντέλο για να κάνουμε προβλέψεις σε νέες παρατηρήσεις:\n",
        "```\n",
        "# fit model\n",
        "model = summarize_by_class(dataset)\n",
        "```\n",
        "Μόλις υπολογιστεί το μοντέλο, μπορούμε να το χρησιμοποιήσουμε με κλήση στη `predict()` με όρισμα μια σειρά που αντιπροσωπεύει τη νέα μας παρατήρηση και να προβλέψουμε την κλάση:\n",
        "```\n",
        "# predict the label\n",
        "label = predict(model, row)\n",
        "```\n",
        "Παρατίθεται στη συνέχεια ένα πλήρες παράδειγμα προσαρμογής του μοντέλου Naive Bayes σε ολόκληρο το σύνολο δεδομένων και κάνοντας μία πρόβλεψη για μια νέα παρατήρηση:\n",
        "\n",
        "\n"
      ]
    },
    {
      "cell_type": "code",
      "metadata": {
        "id": "0I6FdOQZ7OQy"
      },
      "source": [
        "# Make a prediction with Naive Bayes on Iris Dataset\n",
        "filename = 'iris.csv'\n",
        "dataset = make_dataset(iris_dataset)\n",
        "# convert class column to integers\n",
        "str_column_to_int(dataset, len(dataset[0])-1)\n",
        "# fit model\n",
        "model = summarize_by_class(dataset)\n",
        "# define a new record\n",
        "row = [5.7,2.9,4.2,1.3]\n",
        "# predict the label\n",
        "label = predict(model, row)\n",
        "print('Data=%s, Predicted: %s' % (row, label))"
      ],
      "execution_count": null,
      "outputs": []
    },
    {
      "cell_type": "markdown",
      "source": [
        "To παραπάνω αποτέλεσμα μας τυπώνει την πιο πιθανή κλάση, αλλά δεν μας πληροφορεί τις \"πιθανότητες\" ανα κλάση, ώστε να εκτιμήσουμε την \"βεβαιότητα\" της πρόβλεψης. "
      ],
      "metadata": {
        "id": "rnQDofctqwLk"
      }
    },
    {
      "cell_type": "code",
      "source": [
        "# Predict the class for a given row with probabilities report\n",
        "def predict_with_prob_report(summaries, row):\n",
        "\tprobabilities = calculate_class_probabilities(summaries, row)\n",
        "\t# Προσθέστε τον κώδικά σας εδώ\n",
        "\n",
        "\tbest_label, best_prob = None, -1\n",
        "\tfor class_value, probability in probabilities.items():\n",
        "\t\tif best_label is None or probability > best_prob:\n",
        "\t\t\tbest_prob = probability\n",
        "\t\t\tbest_label = class_value\n",
        "\treturn best_label\n",
        "label = predict_with_prob_report(model, row)\n",
        "print('Data=%s, Predicted: %s' % (row, label))"
      ],
      "metadata": {
        "id": "0x1ymZnypauT"
      },
      "execution_count": null,
      "outputs": []
    },
    {
      "cell_type": "markdown",
      "metadata": {
        "id": "337j75kmz4W5"
      },
      "source": [
        "\n",
        "\n",
        "---\n",
        "\n",
        "\n",
        "### Επέκταση σε άλλα Datasets από το σκληρό μας δίσκο\n",
        "Εκτός απο την δυνατότητα να φορτώνουμε on-Line δεδομένα, μέσω της βιβλιοθήκης pandas που χρηρισμοποιεί η παραπάνω εντολή `dataset = make_dataset(iris_dataset)`, μπορείτε να δημιουργήσετε μια δική σας συνάρτηση `load_csv(filename)` που να διαβάζει αρχεία csv από τον σκληρό σας δίσκο, και στη συνέχεια να τα μετατρέπει σε κατάλληλη μορφή (float, integers)."
      ]
    }
  ]
}